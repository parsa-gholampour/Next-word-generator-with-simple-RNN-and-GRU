{
 "cells": [
  {
   "cell_type": "code",
   "execution_count": 1,
   "metadata": {},
   "outputs": [],
   "source": [
    "import numpy as np\n",
    "import tensorflow as tf\n",
    "from tensorflow.keras.models import Sequential\n",
    "from tensorflow.keras.layers import Embedding, GRU, Dense\n",
    "from tensorflow.keras.utils import to_categorical\n",
    "from tensorflow.keras.preprocessing.text import Tokenizer\n",
    "from tensorflow.keras.preprocessing.sequence import pad_sequences"
   ]
  },
  {
   "cell_type": "code",
   "execution_count": 2,
   "metadata": {},
   "outputs": [],
   "source": [
    "# Lightweight text corpus\n",
    "def load_lightweight_text():\n",
    "    text = \"\"\"\n",
    "    hello world this is a test\n",
    "    machine learning is fun\n",
    "    deep learning with tensorflow\n",
    "    natural language processing with python\n",
    "    python is a versatile language\n",
    "    deep learning is deeper than machine learning\n",
    "    \"\"\"\n",
    "    return text.lower()\n",
    "\n",
    "text = load_lightweight_text()"
   ]
  },
  {
   "cell_type": "code",
   "execution_count": 3,
   "metadata": {},
   "outputs": [],
   "source": [
    "# Tokenize the text\n",
    "vocab_size = 100  # Limit the vocabulary size\n",
    "tokenizer = Tokenizer(num_words=vocab_size, oov_token=\"<OOV>\")\n",
    "tokenizer.fit_on_texts([text])\n",
    "total_words = len(tokenizer.word_index) + 1"
   ]
  },
  {
   "cell_type": "code",
   "execution_count": 4,
   "metadata": {},
   "outputs": [],
   "source": [
    "# Create input sequences\n",
    "input_sequences = []\n",
    "for line in text.split(\"\\n\"):\n",
    "    token_list = tokenizer.texts_to_sequences([line])[0]\n",
    "    for i in range(1, len(token_list)):\n",
    "        n_gram_sequence = token_list[:i + 1]\n",
    "        input_sequences.append(n_gram_sequence)"
   ]
  },
  {
   "cell_type": "code",
   "execution_count": 5,
   "metadata": {},
   "outputs": [],
   "source": [
    "# Pad sequences\n",
    "max_seq_length = max(len(seq) for seq in input_sequences)\n",
    "input_sequences = pad_sequences(input_sequences, maxlen=max_seq_length, padding='pre')"
   ]
  },
  {
   "cell_type": "code",
   "execution_count": 6,
   "metadata": {},
   "outputs": [],
   "source": [
    "# Split into predictors and label\n",
    "predictors, labels = input_sequences[:, :-1], input_sequences[:, -1]\n",
    "labels = to_categorical(labels, num_classes=total_words)"
   ]
  },
  {
   "cell_type": "code",
   "execution_count": 7,
   "metadata": {},
   "outputs": [
    {
     "name": "stderr",
     "output_type": "stream",
     "text": [
      "c:\\Users\\Parsa\\AppData\\Local\\Programs\\Python\\Python310\\lib\\site-packages\\keras\\src\\layers\\core\\embedding.py:90: UserWarning: Argument `input_length` is deprecated. Just remove it.\n",
      "  warnings.warn(\n"
     ]
    },
    {
     "data": {
      "text/html": [
       "<pre style=\"white-space:pre;overflow-x:auto;line-height:normal;font-family:Menlo,'DejaVu Sans Mono',consolas,'Courier New',monospace\"><span style=\"font-weight: bold\">Model: \"sequential\"</span>\n",
       "</pre>\n"
      ],
      "text/plain": [
       "\u001b[1mModel: \"sequential\"\u001b[0m\n"
      ]
     },
     "metadata": {},
     "output_type": "display_data"
    },
    {
     "data": {
      "text/html": [
       "<pre style=\"white-space:pre;overflow-x:auto;line-height:normal;font-family:Menlo,'DejaVu Sans Mono',consolas,'Courier New',monospace\">┏━━━━━━━━━━━━━━━━━━━━━━━━━━━━━━━━━┳━━━━━━━━━━━━━━━━━━━━━━━━┳━━━━━━━━━━━━━━━┓\n",
       "┃<span style=\"font-weight: bold\"> Layer (type)                    </span>┃<span style=\"font-weight: bold\"> Output Shape           </span>┃<span style=\"font-weight: bold\">       Param # </span>┃\n",
       "┡━━━━━━━━━━━━━━━━━━━━━━━━━━━━━━━━━╇━━━━━━━━━━━━━━━━━━━━━━━━╇━━━━━━━━━━━━━━━┩\n",
       "│ embedding (<span style=\"color: #0087ff; text-decoration-color: #0087ff\">Embedding</span>)           │ ?                      │   <span style=\"color: #00af00; text-decoration-color: #00af00\">0</span> (unbuilt) │\n",
       "├─────────────────────────────────┼────────────────────────┼───────────────┤\n",
       "│ gru (<span style=\"color: #0087ff; text-decoration-color: #0087ff\">GRU</span>)                       │ ?                      │   <span style=\"color: #00af00; text-decoration-color: #00af00\">0</span> (unbuilt) │\n",
       "├─────────────────────────────────┼────────────────────────┼───────────────┤\n",
       "│ dense (<span style=\"color: #0087ff; text-decoration-color: #0087ff\">Dense</span>)                   │ ?                      │   <span style=\"color: #00af00; text-decoration-color: #00af00\">0</span> (unbuilt) │\n",
       "└─────────────────────────────────┴────────────────────────┴───────────────┘\n",
       "</pre>\n"
      ],
      "text/plain": [
       "┏━━━━━━━━━━━━━━━━━━━━━━━━━━━━━━━━━┳━━━━━━━━━━━━━━━━━━━━━━━━┳━━━━━━━━━━━━━━━┓\n",
       "┃\u001b[1m \u001b[0m\u001b[1mLayer (type)                   \u001b[0m\u001b[1m \u001b[0m┃\u001b[1m \u001b[0m\u001b[1mOutput Shape          \u001b[0m\u001b[1m \u001b[0m┃\u001b[1m \u001b[0m\u001b[1m      Param #\u001b[0m\u001b[1m \u001b[0m┃\n",
       "┡━━━━━━━━━━━━━━━━━━━━━━━━━━━━━━━━━╇━━━━━━━━━━━━━━━━━━━━━━━━╇━━━━━━━━━━━━━━━┩\n",
       "│ embedding (\u001b[38;5;33mEmbedding\u001b[0m)           │ ?                      │   \u001b[38;5;34m0\u001b[0m (unbuilt) │\n",
       "├─────────────────────────────────┼────────────────────────┼───────────────┤\n",
       "│ gru (\u001b[38;5;33mGRU\u001b[0m)                       │ ?                      │   \u001b[38;5;34m0\u001b[0m (unbuilt) │\n",
       "├─────────────────────────────────┼────────────────────────┼───────────────┤\n",
       "│ dense (\u001b[38;5;33mDense\u001b[0m)                   │ ?                      │   \u001b[38;5;34m0\u001b[0m (unbuilt) │\n",
       "└─────────────────────────────────┴────────────────────────┴───────────────┘\n"
      ]
     },
     "metadata": {},
     "output_type": "display_data"
    },
    {
     "data": {
      "text/html": [
       "<pre style=\"white-space:pre;overflow-x:auto;line-height:normal;font-family:Menlo,'DejaVu Sans Mono',consolas,'Courier New',monospace\"><span style=\"font-weight: bold\"> Total params: </span><span style=\"color: #00af00; text-decoration-color: #00af00\">0</span> (0.00 B)\n",
       "</pre>\n"
      ],
      "text/plain": [
       "\u001b[1m Total params: \u001b[0m\u001b[38;5;34m0\u001b[0m (0.00 B)\n"
      ]
     },
     "metadata": {},
     "output_type": "display_data"
    },
    {
     "data": {
      "text/html": [
       "<pre style=\"white-space:pre;overflow-x:auto;line-height:normal;font-family:Menlo,'DejaVu Sans Mono',consolas,'Courier New',monospace\"><span style=\"font-weight: bold\"> Trainable params: </span><span style=\"color: #00af00; text-decoration-color: #00af00\">0</span> (0.00 B)\n",
       "</pre>\n"
      ],
      "text/plain": [
       "\u001b[1m Trainable params: \u001b[0m\u001b[38;5;34m0\u001b[0m (0.00 B)\n"
      ]
     },
     "metadata": {},
     "output_type": "display_data"
    },
    {
     "data": {
      "text/html": [
       "<pre style=\"white-space:pre;overflow-x:auto;line-height:normal;font-family:Menlo,'DejaVu Sans Mono',consolas,'Courier New',monospace\"><span style=\"font-weight: bold\"> Non-trainable params: </span><span style=\"color: #00af00; text-decoration-color: #00af00\">0</span> (0.00 B)\n",
       "</pre>\n"
      ],
      "text/plain": [
       "\u001b[1m Non-trainable params: \u001b[0m\u001b[38;5;34m0\u001b[0m (0.00 B)\n"
      ]
     },
     "metadata": {},
     "output_type": "display_data"
    }
   ],
   "source": [
    "# Build the GRU model\n",
    "model = Sequential([\n",
    "    Embedding(total_words, 128, input_length=max_seq_length - 1),\n",
    "    GRU(128, return_sequences=False),\n",
    "    Dense(total_words, activation='softmax')\n",
    "])\n",
    "\n",
    "model.compile(loss='categorical_crossentropy', optimizer='adam', metrics=['accuracy'])\n",
    "model.summary()"
   ]
  },
  {
   "cell_type": "code",
   "execution_count": 8,
   "metadata": {},
   "outputs": [
    {
     "name": "stdout",
     "output_type": "stream",
     "text": [
      "Epoch 1/40\n",
      "2/2 - 2s - 1s/step - accuracy: 0.0400 - loss: 3.0457\n",
      "Epoch 2/40\n",
      "2/2 - 0s - 28ms/step - accuracy: 0.2400 - loss: 3.0124\n",
      "Epoch 3/40\n",
      "2/2 - 0s - 21ms/step - accuracy: 0.4000 - loss: 2.9844\n",
      "Epoch 4/40\n",
      "2/2 - 0s - 22ms/step - accuracy: 0.4400 - loss: 2.9515\n",
      "Epoch 5/40\n",
      "2/2 - 0s - 26ms/step - accuracy: 0.3600 - loss: 2.9152\n",
      "Epoch 6/40\n",
      "2/2 - 0s - 17ms/step - accuracy: 0.3200 - loss: 2.8742\n",
      "Epoch 7/40\n",
      "2/2 - 0s - 23ms/step - accuracy: 0.3200 - loss: 2.8257\n",
      "Epoch 8/40\n",
      "2/2 - 0s - 24ms/step - accuracy: 0.3200 - loss: 2.7605\n",
      "Epoch 9/40\n",
      "2/2 - 0s - 37ms/step - accuracy: 0.2400 - loss: 2.6950\n",
      "Epoch 10/40\n",
      "2/2 - 0s - 22ms/step - accuracy: 0.2000 - loss: 2.6083\n",
      "Epoch 11/40\n",
      "2/2 - 0s - 24ms/step - accuracy: 0.2000 - loss: 2.5350\n",
      "Epoch 12/40\n",
      "2/2 - 0s - 23ms/step - accuracy: 0.2000 - loss: 2.4939\n",
      "Epoch 13/40\n",
      "2/2 - 0s - 22ms/step - accuracy: 0.3200 - loss: 2.4608\n",
      "Epoch 14/40\n",
      "2/2 - 0s - 26ms/step - accuracy: 0.3200 - loss: 2.4123\n",
      "Epoch 15/40\n",
      "2/2 - 0s - 20ms/step - accuracy: 0.3200 - loss: 2.3481\n",
      "Epoch 16/40\n",
      "2/2 - 0s - 25ms/step - accuracy: 0.3200 - loss: 2.2953\n",
      "Epoch 17/40\n",
      "2/2 - 0s - 17ms/step - accuracy: 0.4400 - loss: 2.2324\n",
      "Epoch 18/40\n",
      "2/2 - 0s - 27ms/step - accuracy: 0.4400 - loss: 2.1788\n",
      "Epoch 19/40\n",
      "2/2 - 0s - 24ms/step - accuracy: 0.4400 - loss: 2.1172\n",
      "Epoch 20/40\n",
      "2/2 - 0s - 28ms/step - accuracy: 0.4800 - loss: 2.0482\n",
      "Epoch 21/40\n",
      "2/2 - 0s - 33ms/step - accuracy: 0.4800 - loss: 1.9729\n",
      "Epoch 22/40\n",
      "2/2 - 0s - 24ms/step - accuracy: 0.4800 - loss: 1.8944\n",
      "Epoch 23/40\n",
      "2/2 - 0s - 22ms/step - accuracy: 0.4800 - loss: 1.8026\n",
      "Epoch 24/40\n",
      "2/2 - 0s - 22ms/step - accuracy: 0.5200 - loss: 1.7232\n",
      "Epoch 25/40\n",
      "2/2 - 0s - 22ms/step - accuracy: 0.5200 - loss: 1.6389\n",
      "Epoch 26/40\n",
      "2/2 - 0s - 30ms/step - accuracy: 0.5600 - loss: 1.5374\n",
      "Epoch 27/40\n",
      "2/2 - 0s - 25ms/step - accuracy: 0.5600 - loss: 1.4430\n",
      "Epoch 28/40\n",
      "2/2 - 0s - 77ms/step - accuracy: 0.6000 - loss: 1.3465\n",
      "Epoch 29/40\n",
      "2/2 - 0s - 26ms/step - accuracy: 0.6800 - loss: 1.2435\n",
      "Epoch 30/40\n",
      "2/2 - 0s - 31ms/step - accuracy: 0.7600 - loss: 1.1467\n",
      "Epoch 31/40\n",
      "2/2 - 0s - 26ms/step - accuracy: 0.8000 - loss: 1.0500\n",
      "Epoch 32/40\n",
      "2/2 - 0s - 16ms/step - accuracy: 0.8000 - loss: 0.9687\n",
      "Epoch 33/40\n",
      "2/2 - 0s - 26ms/step - accuracy: 0.8800 - loss: 0.8763\n",
      "Epoch 34/40\n",
      "2/2 - 0s - 22ms/step - accuracy: 0.9200 - loss: 0.7969\n",
      "Epoch 35/40\n",
      "2/2 - 0s - 19ms/step - accuracy: 0.9200 - loss: 0.7201\n",
      "Epoch 36/40\n",
      "2/2 - 0s - 26ms/step - accuracy: 0.9200 - loss: 0.6564\n",
      "Epoch 37/40\n",
      "2/2 - 0s - 15ms/step - accuracy: 0.9200 - loss: 0.5892\n",
      "Epoch 38/40\n",
      "2/2 - 0s - 18ms/step - accuracy: 0.9200 - loss: 0.5382\n",
      "Epoch 39/40\n",
      "2/2 - 0s - 21ms/step - accuracy: 0.9200 - loss: 0.4888\n",
      "Epoch 40/40\n",
      "2/2 - 0s - 19ms/step - accuracy: 0.9200 - loss: 0.4489\n"
     ]
    },
    {
     "data": {
      "text/plain": [
       "<keras.src.callbacks.history.History at 0x279c4c53280>"
      ]
     },
     "execution_count": 8,
     "metadata": {},
     "output_type": "execute_result"
    }
   ],
   "source": [
    "# Train the model\n",
    "epochs = 40\n",
    "model.fit(predictors, labels, epochs=epochs, batch_size=16, verbose=2)"
   ]
  },
  {
   "cell_type": "code",
   "execution_count": 9,
   "metadata": {},
   "outputs": [],
   "source": [
    "# Function to generate text\n",
    "def generate_text(seed_text, next_words, model, tokenizer, max_seq_length):\n",
    "    for _ in range(next_words):\n",
    "        token_list = tokenizer.texts_to_sequences([seed_text])[0]\n",
    "        token_list = pad_sequences([token_list], maxlen=max_seq_length - 1, padding='pre')\n",
    "        predicted = np.argmax(model.predict(token_list), axis=-1)\n",
    "\n",
    "        for word, index in tokenizer.word_index.items():\n",
    "            if index == predicted:\n",
    "                seed_text += \" \" + word\n",
    "                break\n",
    "\n",
    "    return seed_text"
   ]
  },
  {
   "cell_type": "code",
   "execution_count": 14,
   "metadata": {},
   "outputs": [
    {
     "name": "stdout",
     "output_type": "stream",
     "text": [
      "\u001b[1m1/1\u001b[0m \u001b[32m━━━━━━━━━━━━━━━━━━━━\u001b[0m\u001b[37m\u001b[0m \u001b[1m0s\u001b[0m 35ms/step\n",
      "\u001b[1m1/1\u001b[0m \u001b[32m━━━━━━━━━━━━━━━━━━━━\u001b[0m\u001b[37m\u001b[0m \u001b[1m0s\u001b[0m 11ms/step\n",
      "\u001b[1m1/1\u001b[0m \u001b[32m━━━━━━━━━━━━━━━━━━━━\u001b[0m\u001b[37m\u001b[0m \u001b[1m0s\u001b[0m 35ms/step\n",
      "\u001b[1m1/1\u001b[0m \u001b[32m━━━━━━━━━━━━━━━━━━━━\u001b[0m\u001b[37m\u001b[0m \u001b[1m0s\u001b[0m 24ms/step\n",
      "\u001b[1m1/1\u001b[0m \u001b[32m━━━━━━━━━━━━━━━━━━━━\u001b[0m\u001b[37m\u001b[0m \u001b[1m0s\u001b[0m 26ms/step\n",
      "\u001b[1m1/1\u001b[0m \u001b[32m━━━━━━━━━━━━━━━━━━━━\u001b[0m\u001b[37m\u001b[0m \u001b[1m0s\u001b[0m 50ms/step\n",
      "\u001b[1m1/1\u001b[0m \u001b[32m━━━━━━━━━━━━━━━━━━━━\u001b[0m\u001b[37m\u001b[0m \u001b[1m0s\u001b[0m 30ms/step\n",
      "\u001b[1m1/1\u001b[0m \u001b[32m━━━━━━━━━━━━━━━━━━━━\u001b[0m\u001b[37m\u001b[0m \u001b[1m0s\u001b[0m 34ms/step\n",
      "\u001b[1m1/1\u001b[0m \u001b[32m━━━━━━━━━━━━━━━━━━━━\u001b[0m\u001b[37m\u001b[0m \u001b[1m0s\u001b[0m 31ms/step\n",
      "\u001b[1m1/1\u001b[0m \u001b[32m━━━━━━━━━━━━━━━━━━━━\u001b[0m\u001b[37m\u001b[0m \u001b[1m0s\u001b[0m 27ms/step\n",
      "Generated Text: Python is a versatile language language processing with python python python\n"
     ]
    }
   ],
   "source": [
    "# Test the model\n",
    "seed_text = \"Python\"\n",
    "generated_text = generate_text(seed_text, 10, model, tokenizer, max_seq_length)\n",
    "print(\"Generated Text:\", generated_text)"
   ]
  }
 ],
 "metadata": {
  "kernelspec": {
   "display_name": "Python 3",
   "language": "python",
   "name": "python3"
  },
  "language_info": {
   "codemirror_mode": {
    "name": "ipython",
    "version": 3
   },
   "file_extension": ".py",
   "mimetype": "text/x-python",
   "name": "python",
   "nbconvert_exporter": "python",
   "pygments_lexer": "ipython3",
   "version": "3.10.2"
  }
 },
 "nbformat": 4,
 "nbformat_minor": 2
}
